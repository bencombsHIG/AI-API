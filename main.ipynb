{
 "cells": [
  {
   "cell_type": "code",
   "execution_count": null,
   "metadata": {},
   "outputs": [],
   "source": [
    "!conda install boto3 -y\n",
    "!conda install pandas -y\n",
    "!conda install numpy -y\n",
    "!conda install fsspec -y\n",
    "!conda install s3fs -y\n",
    "!conda install matplotlib -y"
   ]
  },
  {
   "cell_type": "code",
   "execution_count": 3,
   "metadata": {},
   "outputs": [],
   "source": [
    "import boto3\n",
    "import configparser\n",
    "import pandas as pd\n",
    "import matplotlib\n",
    "import matplotlib.pyplot as plt"
   ]
  },
  {
   "cell_type": "code",
   "execution_count": 4,
   "metadata": {},
   "outputs": [],
   "source": [
    "# Load AWS credentials from the configuration file for BOTO3\n",
    "config = configparser.ConfigParser()\n",
    "config.read('aws.cfg')\n",
    "\n",
    "aws_access_key = config['AWS']['aws_access_key_id']\n",
    "aws_secret_key = config['AWS']['aws_secret_access_key']\n",
    "\n",
    "# Initialize the S3 client\n",
    "s3 = boto3.client(\n",
    "    's3',\n",
    "    aws_access_key_id=aws_access_key,\n",
    "    aws_secret_access_key=aws_secret_key\n",
    ")\n",
    "comprehend = boto3.client(service_name='comprehend',region_name='us-west-2',aws_access_key_id= aws_access_key,aws_secret_access_key=aws_secret_key)\n",
    "rekognition = boto3.client(service_name='rekognition', region_name='us-west-2', aws_access_key_id=aws_access_key, aws_secret_access_key=aws_secret_key)"
   ]
  },
  {
   "cell_type": "code",
   "execution_count": 44,
   "metadata": {},
   "outputs": [],
   "source": [
    "prod_df = pd.read_csv('s3://techcatalyst-public/resources/sentiment/product.csv')\n",
    "rvw_df = pd.read_csv('s3://techcatalyst-public/resources/sentiment/review.csv')"
   ]
  },
  {
   "cell_type": "code",
   "execution_count": 45,
   "metadata": {},
   "outputs": [
    {
     "name": "stdout",
     "output_type": "stream",
     "text": [
      "<class 'pandas.core.frame.DataFrame'>\n",
      "RangeIndex: 20 entries, 0 to 19\n",
      "Data columns (total 3 columns):\n",
      " #   Column               Non-Null Count  Dtype \n",
      "---  ------               --------------  ----- \n",
      " 0   PRODUCT ID           20 non-null     int64 \n",
      " 1   PRODUCT DESCRIPTION  20 non-null     object\n",
      " 2   REVIEW ID            20 non-null     object\n",
      "dtypes: int64(1), object(2)\n",
      "memory usage: 612.0+ bytes\n",
      "<class 'pandas.core.frame.DataFrame'>\n",
      "RangeIndex: 20 entries, 0 to 19\n",
      "Data columns (total 2 columns):\n",
      " #   Column       Non-Null Count  Dtype \n",
      "---  ------       --------------  ----- \n",
      " 0   REVIEW ID    20 non-null     object\n",
      " 1   REVIEW TEXT  20 non-null     object\n",
      "dtypes: object(2)\n",
      "memory usage: 452.0+ bytes\n"
     ]
    }
   ],
   "source": [
    "prod_df.info()\n",
    "rvw_df.info()"
   ]
  },
  {
   "cell_type": "code",
   "execution_count": 46,
   "metadata": {},
   "outputs": [],
   "source": [
    "merged_df = prod_df.merge(rvw_df, on='REVIEW ID')"
   ]
  },
  {
   "cell_type": "code",
   "execution_count": 47,
   "metadata": {},
   "outputs": [
    {
     "name": "stdout",
     "output_type": "stream",
     "text": [
      "<class 'pandas.core.frame.DataFrame'>\n",
      "RangeIndex: 20 entries, 0 to 19\n",
      "Data columns (total 4 columns):\n",
      " #   Column               Non-Null Count  Dtype \n",
      "---  ------               --------------  ----- \n",
      " 0   PRODUCT ID           20 non-null     int64 \n",
      " 1   PRODUCT DESCRIPTION  20 non-null     object\n",
      " 2   REVIEW ID            20 non-null     object\n",
      " 3   REVIEW TEXT          20 non-null     object\n",
      "dtypes: int64(1), object(3)\n",
      "memory usage: 772.0+ bytes\n"
     ]
    }
   ],
   "source": [
    "merged_df.info()"
   ]
  },
  {
   "cell_type": "code",
   "execution_count": 48,
   "metadata": {},
   "outputs": [
    {
     "data": {
      "text/html": [
       "<div>\n",
       "<style scoped>\n",
       "    .dataframe tbody tr th:only-of-type {\n",
       "        vertical-align: middle;\n",
       "    }\n",
       "\n",
       "    .dataframe tbody tr th {\n",
       "        vertical-align: top;\n",
       "    }\n",
       "\n",
       "    .dataframe thead th {\n",
       "        text-align: right;\n",
       "    }\n",
       "</style>\n",
       "<table border=\"1\" class=\"dataframe\">\n",
       "  <thead>\n",
       "    <tr style=\"text-align: right;\">\n",
       "      <th></th>\n",
       "      <th>PRODUCT ID</th>\n",
       "      <th>PRODUCT DESCRIPTION</th>\n",
       "      <th>REVIEW ID</th>\n",
       "      <th>REVIEW TEXT</th>\n",
       "    </tr>\n",
       "  </thead>\n",
       "  <tbody>\n",
       "    <tr>\n",
       "      <th>0</th>\n",
       "      <td>1</td>\n",
       "      <td>High-quality smartphone with excellent camera.</td>\n",
       "      <td>R1</td>\n",
       "      <td>Great camera quality, but battery life could b...</td>\n",
       "    </tr>\n",
       "    <tr>\n",
       "      <th>1</th>\n",
       "      <td>1</td>\n",
       "      <td>High-quality smartphone with excellent camera.</td>\n",
       "      <td>R2</td>\n",
       "      <td>Very satisfied with this smartphone. Worth eve...</td>\n",
       "    </tr>\n",
       "    <tr>\n",
       "      <th>2</th>\n",
       "      <td>2</td>\n",
       "      <td>Durable laptop with long battery life.</td>\n",
       "      <td>R3</td>\n",
       "      <td>Excellent performance and battery life. Highly...</td>\n",
       "    </tr>\n",
       "  </tbody>\n",
       "</table>\n",
       "</div>"
      ],
      "text/plain": [
       "   PRODUCT ID                             PRODUCT DESCRIPTION REVIEW ID  \\\n",
       "0           1  High-quality smartphone with excellent camera.        R1   \n",
       "1           1  High-quality smartphone with excellent camera.        R2   \n",
       "2           2          Durable laptop with long battery life.        R3   \n",
       "\n",
       "                                         REVIEW TEXT  \n",
       "0  Great camera quality, but battery life could b...  \n",
       "1  Very satisfied with this smartphone. Worth eve...  \n",
       "2  Excellent performance and battery life. Highly...  "
      ]
     },
     "execution_count": 48,
     "metadata": {},
     "output_type": "execute_result"
    }
   ],
   "source": [
    "merged_df[0:3]"
   ]
  },
  {
   "cell_type": "code",
   "execution_count": 4,
   "metadata": {},
   "outputs": [],
   "source": []
  },
  {
   "cell_type": "code",
   "execution_count": 24,
   "metadata": {},
   "outputs": [],
   "source": [
    "# function for performing sentiment analysis on each column value\n",
    "def get_sentiment(mytxt):\n",
    "     \n",
    "    response = comprehend.detect_sentiment(\n",
    "    Text= mytxt,\n",
    "    LanguageCode='en')\n",
    "     \n",
    "    return response['Sentiment']"
   ]
  },
  {
   "cell_type": "code",
   "execution_count": 25,
   "metadata": {},
   "outputs": [],
   "source": [
    "merged_df['Sentiment'] = merged_df['REVIEW TEXT'].apply(lambda x: get_sentiment(str(x)))"
   ]
  },
  {
   "cell_type": "code",
   "execution_count": 26,
   "metadata": {},
   "outputs": [
    {
     "data": {
      "text/html": [
       "<div>\n",
       "<style scoped>\n",
       "    .dataframe tbody tr th:only-of-type {\n",
       "        vertical-align: middle;\n",
       "    }\n",
       "\n",
       "    .dataframe tbody tr th {\n",
       "        vertical-align: top;\n",
       "    }\n",
       "\n",
       "    .dataframe thead th {\n",
       "        text-align: right;\n",
       "    }\n",
       "</style>\n",
       "<table border=\"1\" class=\"dataframe\">\n",
       "  <thead>\n",
       "    <tr style=\"text-align: right;\">\n",
       "      <th></th>\n",
       "      <th>PRODUCT ID</th>\n",
       "      <th>PRODUCT DESCRIPTION</th>\n",
       "      <th>REVIEW ID</th>\n",
       "      <th>REVIEW TEXT</th>\n",
       "      <th>Sentiment</th>\n",
       "    </tr>\n",
       "  </thead>\n",
       "  <tbody>\n",
       "    <tr>\n",
       "      <th>0</th>\n",
       "      <td>1</td>\n",
       "      <td>High-quality smartphone with excellent camera.</td>\n",
       "      <td>R1</td>\n",
       "      <td>Great camera quality, but battery life could b...</td>\n",
       "      <td>MIXED</td>\n",
       "    </tr>\n",
       "    <tr>\n",
       "      <th>1</th>\n",
       "      <td>1</td>\n",
       "      <td>High-quality smartphone with excellent camera.</td>\n",
       "      <td>R2</td>\n",
       "      <td>Very satisfied with this smartphone. Worth eve...</td>\n",
       "      <td>POSITIVE</td>\n",
       "    </tr>\n",
       "    <tr>\n",
       "      <th>2</th>\n",
       "      <td>2</td>\n",
       "      <td>Durable laptop with long battery life.</td>\n",
       "      <td>R3</td>\n",
       "      <td>Excellent performance and battery life. Highly...</td>\n",
       "      <td>POSITIVE</td>\n",
       "    </tr>\n",
       "    <tr>\n",
       "      <th>3</th>\n",
       "      <td>2</td>\n",
       "      <td>Durable laptop with long battery life.</td>\n",
       "      <td>R4</td>\n",
       "      <td>Disappointed with the build quality. Feels cheap.</td>\n",
       "      <td>NEGATIVE</td>\n",
       "    </tr>\n",
       "    <tr>\n",
       "      <th>4</th>\n",
       "      <td>3</td>\n",
       "      <td>Wireless noise-canceling headphones.</td>\n",
       "      <td>R5</td>\n",
       "      <td>Fantastic noise cancellation and sound quality.</td>\n",
       "      <td>POSITIVE</td>\n",
       "    </tr>\n",
       "  </tbody>\n",
       "</table>\n",
       "</div>"
      ],
      "text/plain": [
       "   PRODUCT ID                             PRODUCT DESCRIPTION REVIEW ID  \\\n",
       "0           1  High-quality smartphone with excellent camera.        R1   \n",
       "1           1  High-quality smartphone with excellent camera.        R2   \n",
       "2           2          Durable laptop with long battery life.        R3   \n",
       "3           2          Durable laptop with long battery life.        R4   \n",
       "4           3            Wireless noise-canceling headphones.        R5   \n",
       "\n",
       "                                         REVIEW TEXT Sentiment  \n",
       "0  Great camera quality, but battery life could b...     MIXED  \n",
       "1  Very satisfied with this smartphone. Worth eve...  POSITIVE  \n",
       "2  Excellent performance and battery life. Highly...  POSITIVE  \n",
       "3  Disappointed with the build quality. Feels cheap.  NEGATIVE  \n",
       "4    Fantastic noise cancellation and sound quality.  POSITIVE  "
      ]
     },
     "execution_count": 26,
     "metadata": {},
     "output_type": "execute_result"
    }
   ],
   "source": [
    "merged_df[0:5]"
   ]
  },
  {
   "cell_type": "code",
   "execution_count": 29,
   "metadata": {},
   "outputs": [],
   "source": [
    "bucket_name = 'techcatalyst-public'\n",
    "dst = f's3://{bucket_name}/ben/product_sentiment.csv'\n",
    "merged_df.to_csv(dst, storage_options={'key':aws_access_key,'secret':aws_secret_key})"
   ]
  },
  {
   "cell_type": "code",
   "execution_count": 52,
   "metadata": {},
   "outputs": [
    {
     "data": {
      "image/png": "[encoded data removed]",
      "text/plain": [
       "<Figure size 640x480 with 1 Axes>"
      ]
     },
     "metadata": {},
     "output_type": "display_data"
    }
   ],
   "source": [
    "ax = merged_df['Sentiment'].value_counts().plot(kind='bar')\n",
    "plt.savefig('sentiment_graph.jpg', format='jpg')\n",
    "s3.upload_file('sentiment_graph.jpg','techcatalyst-public','ben/sentiment_graph.jpg')"
   ]
  },
  {
   "cell_type": "code",
   "execution_count": 33,
   "metadata": {},
   "outputs": [
    {
     "data": {
      "text/plain": [
       "['resources/license-plates/license_plate10.jpeg',\n",
       " 'resources/license-plates/license_plate11.png',\n",
       " 'resources/license-plates/license_plate12.jpeg',\n",
       " 'resources/license-plates/license_plate13.jpeg',\n",
       " 'resources/license-plates/license_plate3.png',\n",
       " 'resources/license-plates/license_plate4.jpeg',\n",
       " 'resources/license-plates/license_plate6.jpeg',\n",
       " 'resources/license-plates/license_plate7.jpg',\n",
       " 'resources/license-plates/license_plate8.png',\n",
       " 'resources/license-plates/license_plate9.jpeg']"
      ]
     },
     "execution_count": 33,
     "metadata": {},
     "output_type": "execute_result"
    }
   ],
   "source": [
    "response = s3.list_objects_v2(Bucket='techcatalyst-public', Prefix='resources/license-plates')\n",
    "contents = response['Contents'][1:-1]\n",
    "\n",
    "license_list = []\n",
    "for item in contents:\n",
    "    license_list.append(item['Key'])\n",
    "license_list\n"
   ]
  },
  {
   "cell_type": "code",
   "execution_count": 11,
   "metadata": {},
   "outputs": [],
   "source": [
    "states = [\n",
    "    \"ALABAMA\", \"ALASKA\", \"ARIZONA\", \"ARKANSAS\", \"CALIFORNIA\", \"COLORADO\", \"CONNECTICUT\",\n",
    "    \"DELAWARE\", \"FLORIDA\", \"GEORGIA\", \"HAWAII\", \"IDAHO\", \"ILLINOIS\", \"INDIANA\", \"IOWA\",\n",
    "    \"KANSAS\", \"KENTUCKY\", \"LOUISIANA\", \"MAINE\", \"MARYLAND\", \"MASSACHUSETTS\", \"MICHIGAN\",\n",
    "    \"MINNESOTA\", \"MISSISSIPPI\", \"MISSOURI\", \"MONTANA\", \"NEBRASKA\", \"NEVADA\", \"NEW HAMPSHIRE\",\n",
    "    \"NEW JERSEY\", \"NEW MEXICO\", \"NEW YORK\", \"NORTH CAROLINA\", \"NORTH DAKOTA\", \"OHIO\", \"OKLAHOMA\",\n",
    "    \"OREGON\", \"PENNSYLVANIA\", \"RHODE ISLAND\", \"SOUTH CAROLINA\", \"SOUTH DAKOTA\", \"TENNESSEE\", \"TEXAS\",\n",
    "    \"UTAH\", \"VERMONT\", \"VIRGINIA\", \"WASHINGTON\", \"WEST VIRGINIA\", \"WISCONSIN\", \"WYOMING\"\n",
    "]\n"
   ]
  },
  {
   "cell_type": "code",
   "execution_count": 16,
   "metadata": {},
   "outputs": [],
   "source": [
    "bucket_name = 'techcatalyst-public'\n",
    "\n",
    "def detect_license_state(bucket, key):\n",
    "    idx = 0\n",
    "    response = rekognition.detect_text(Image={'S3Object':{'Bucket':bucket,'Name':key}})\n",
    "    for text in response['TextDetections']:\n",
    "        if text['DetectedText'].upper() in states:\n",
    "            idx += 1\n",
    "            print(idx, text)\n"
   ]
  },
  {
   "cell_type": "code",
   "execution_count": 17,
   "metadata": {},
   "outputs": [
    {
     "name": "stdout",
     "output_type": "stream",
     "text": [
      "1 {'DetectedText': 'ARIZONA', 'Type': 'LINE', 'Id': 0, 'Confidence': 98.50362396240234, 'Geometry': {'BoundingBox': {'Width': 0.4936508238315582, 'Height': 0.07825587689876556, 'Left': 0.26605865359306335, 'Top': 0.19211511313915253}, 'Polygon': [{'X': 0.26668664813041687, 'Y': 0.19211511313915253}, {'X': 0.7597094774246216, 'Y': 0.19995105266571045}, {'X': 0.7590815424919128, 'Y': 0.2703709900379181}, {'X': 0.26605865359306335, 'Y': 0.26253506541252136}]}}\n",
      "2 {'DetectedText': 'ARIZONA', 'Type': 'WORD', 'Id': 7, 'ParentId': 0, 'Confidence': 98.50362396240234, 'Geometry': {'BoundingBox': {'Width': 0.4936508238315582, 'Height': 0.07825587689876556, 'Left': 0.26605865359306335, 'Top': 0.19211511313915253}, 'Polygon': [{'X': 0.26668664813041687, 'Y': 0.19211511313915253}, {'X': 0.7597094774246216, 'Y': 0.19995105266571045}, {'X': 0.7590815424919128, 'Y': 0.2703709900379181}, {'X': 0.26605865359306335, 'Y': 0.26253506541252136}]}}\n",
      "1 {'DetectedText': 'TEXAS', 'Type': 'LINE', 'Id': 0, 'Confidence': 99.95950317382812, 'Geometry': {'BoundingBox': {'Width': 0.3333333134651184, 'Height': 0.16166667640209198, 'Left': 0.3349835276603699, 'Top': 0.12833334505558014}, 'Polygon': [{'X': 0.3349835276603699, 'Y': 0.12833334505558014}, {'X': 0.6683168411254883, 'Y': 0.12833334505558014}, {'X': 0.6683168411254883, 'Y': 0.2900000214576721}, {'X': 0.3349835276603699, 'Y': 0.2900000214576721}]}}\n",
      "2 {'DetectedText': 'TEXAS', 'Type': 'WORD', 'Id': 4, 'ParentId': 0, 'Confidence': 99.95950317382812, 'Geometry': {'BoundingBox': {'Width': 0.3333333134651184, 'Height': 0.16166667640209198, 'Left': 0.3349835276603699, 'Top': 0.12833334505558014}, 'Polygon': [{'X': 0.3349835276603699, 'Y': 0.12833334505558014}, {'X': 0.6683168411254883, 'Y': 0.12833334505558014}, {'X': 0.6683168411254883, 'Y': 0.2900000214576721}, {'X': 0.3349835276603699, 'Y': 0.2900000214576721}]}}\n",
      "1 {'DetectedText': 'TEXAS', 'Type': 'LINE', 'Id': 0, 'Confidence': 99.8942642211914, 'Geometry': {'BoundingBox': {'Width': 0.26054856181144714, 'Height': 0.12083335220813751, 'Left': 0.3639240562915802, 'Top': 0.125}, 'Polygon': [{'X': 0.3639240562915802, 'Y': 0.125}, {'X': 0.6244726181030273, 'Y': 0.125}, {'X': 0.6244726181030273, 'Y': 0.2458333522081375}, {'X': 0.3639240562915802, 'Y': 0.2458333522081375}]}}\n",
      "2 {'DetectedText': 'TEXAS', 'Type': 'WORD', 'Id': 6, 'ParentId': 0, 'Confidence': 99.8942642211914, 'Geometry': {'BoundingBox': {'Width': 0.26054856181144714, 'Height': 0.12083335220813751, 'Left': 0.3639240562915802, 'Top': 0.125}, 'Polygon': [{'X': 0.3639240562915802, 'Y': 0.125}, {'X': 0.6244726181030273, 'Y': 0.125}, {'X': 0.6244726181030273, 'Y': 0.2458333522081375}, {'X': 0.3639240562915802, 'Y': 0.2458333522081375}]}}\n",
      "1 {'DetectedText': 'ALABAMA', 'Type': 'LINE', 'Id': 0, 'Confidence': 99.57162475585938, 'Geometry': {'BoundingBox': {'Width': 0.50537109375, 'Height': 0.1015625, 'Left': 0.205810546875, 'Top': 0.1435546875}, 'Polygon': [{'X': 0.205810546875, 'Y': 0.1435546875}, {'X': 0.711181640625, 'Y': 0.1435546875}, {'X': 0.711181640625, 'Y': 0.2451171875}, {'X': 0.205810546875, 'Y': 0.2451171875}]}}\n",
      "2 {'DetectedText': 'ALABAMA', 'Type': 'WORD', 'Id': 9, 'ParentId': 0, 'Confidence': 99.57162475585938, 'Geometry': {'BoundingBox': {'Width': 0.50537109375, 'Height': 0.1015625, 'Left': 0.205810546875, 'Top': 0.1435546875}, 'Polygon': [{'X': 0.205810546875, 'Y': 0.1435546875}, {'X': 0.711181640625, 'Y': 0.1435546875}, {'X': 0.711181640625, 'Y': 0.2451171875}, {'X': 0.205810546875, 'Y': 0.2451171875}]}}\n",
      "3 {'DetectedText': 'ALABAMA', 'Type': 'WORD', 'Id': 10, 'ParentId': 1, 'Confidence': 99.48104858398438, 'Geometry': {'BoundingBox': {'Width': 0.062255859375, 'Height': 0.0146484375, 'Left': 0.100341796875, 'Top': 0.578125}, 'Polygon': [{'X': 0.100341796875, 'Y': 0.578125}, {'X': 0.16259765625, 'Y': 0.578125}, {'X': 0.16259765625, 'Y': 0.5927734375}, {'X': 0.100341796875, 'Y': 0.5927734375}]}}\n",
      "1 {'DetectedText': 'Massachusetts', 'Type': 'LINE', 'Id': 1, 'Confidence': 98.02832794189453, 'Geometry': {'BoundingBox': {'Width': 0.09869606047868729, 'Height': 0.03885359317064285, 'Left': 0.8312448859214783, 'Top': 0.06158015504479408}, 'Polygon': [{'X': 0.8312448859214783, 'Y': 0.07273983955383301}, {'X': 0.9291245937347412, 'Y': 0.06158015504479408}, {'X': 0.929940938949585, 'Y': 0.08927406370639801}, {'X': 0.8320611715316772, 'Y': 0.10043375194072723}]}}\n",
      "2 {'DetectedText': 'Massachusetts', 'Type': 'WORD', 'Id': 7, 'ParentId': 0, 'Confidence': 96.7863998413086, 'Geometry': {'BoundingBox': {'Width': 0.5712519884109497, 'Height': 0.22698669135570526, 'Left': 0.2132289558649063, 'Top': 0.034352581948041916}, 'Polygon': [{'X': 0.2139217108488083, 'Y': 0.034352581948041916}, {'X': 0.7844809293746948, 'Y': 0.04130082204937935}, {'X': 0.7837882041931152, 'Y': 0.2613392770290375}, {'X': 0.2132289558649063, 'Y': 0.25439101457595825}]}}\n",
      "3 {'DetectedText': 'Massachusetts', 'Type': 'WORD', 'Id': 8, 'ParentId': 1, 'Confidence': 98.02832794189453, 'Geometry': {'BoundingBox': {'Width': 0.09869606047868729, 'Height': 0.03885360807180405, 'Left': 0.8312448859214783, 'Top': 0.061580151319503784}, 'Polygon': [{'X': 0.8312448859214783, 'Y': 0.0727398470044136}, {'X': 0.9291245937347412, 'Y': 0.061580151319503784}, {'X': 0.929940938949585, 'Y': 0.08927406370639801}, {'X': 0.8320611715316772, 'Y': 0.10043375939130783}]}}\n",
      "1 {'DetectedText': 'PENNSYLVANIA', 'Type': 'LINE', 'Id': 3, 'Confidence': 98.7155532836914, 'Geometry': {'BoundingBox': {'Width': 0.34854641556739807, 'Height': 0.12694786489009857, 'Left': 0.32191306352615356, 'Top': 0.13871386647224426}, 'Polygon': [{'X': 0.32191306352615356, 'Y': 0.18750664591789246}, {'X': 0.6674079298973083, 'Y': 0.13871386647224426}, {'X': 0.6704594492912292, 'Y': 0.21686895191669464}, {'X': 0.32496464252471924, 'Y': 0.26566174626350403}]}}\n",
      "2 {'DetectedText': 'PENNSYLVANIA', 'Type': 'WORD', 'Id': 17, 'ParentId': 3, 'Confidence': 98.7155532836914, 'Geometry': {'BoundingBox': {'Width': 0.34854641556739807, 'Height': 0.12694787979125977, 'Left': 0.32191306352615356, 'Top': 0.13871386647224426}, 'Polygon': [{'X': 0.32191306352615356, 'Y': 0.18750664591789246}, {'X': 0.6674079298973083, 'Y': 0.13871386647224426}, {'X': 0.6704594492912292, 'Y': 0.21686895191669464}, {'X': 0.32496464252471924, 'Y': 0.26566174626350403}]}}\n",
      "1 {'DetectedText': 'California', 'Type': 'LINE', 'Id': 1, 'Confidence': 98.68543243408203, 'Geometry': {'BoundingBox': {'Width': 0.6650835871696472, 'Height': 0.3416156768798828, 'Left': 0.18250294029712677, 'Top': 0.04050431400537491}, 'Polygon': [{'X': 0.18295012414455414, 'Y': 0.04050431400537491}, {'X': 0.8475865721702576, 'Y': 0.043680787086486816}, {'X': 0.8471394181251526, 'Y': 0.3821200132369995}, {'X': 0.18250294029712677, 'Y': 0.378943532705307}]}}\n",
      "2 {'DetectedText': 'California', 'Type': 'WORD', 'Id': 8, 'ParentId': 1, 'Confidence': 98.68543243408203, 'Geometry': {'BoundingBox': {'Width': 0.6650835871696472, 'Height': 0.3416156768798828, 'Left': 0.18250294029712677, 'Top': 0.04050431400537491}, 'Polygon': [{'X': 0.18295012414455414, 'Y': 0.04050431400537491}, {'X': 0.8475865721702576, 'Y': 0.043680787086486816}, {'X': 0.8471394181251526, 'Y': 0.3821200132369995}, {'X': 0.18250294029712677, 'Y': 0.378943532705307}]}}\n",
      "1 {'DetectedText': 'NEVADA', 'Type': 'LINE', 'Id': 0, 'Confidence': 98.21189880371094, 'Geometry': {'BoundingBox': {'Width': 0.5043389797210693, 'Height': 0.20915332436561584, 'Left': 0.24878594279289246, 'Top': 0.04521724581718445}, 'Polygon': [{'X': 0.24878594279289246, 'Y': 0.05336843430995941}, {'X': 0.7522945404052734, 'Y': 0.04521724581718445}, {'X': 0.7531249523162842, 'Y': 0.24621938169002533}, {'X': 0.24961629509925842, 'Y': 0.2543705701828003}]}}\n",
      "2 {'DetectedText': 'NEVADA', 'Type': 'WORD', 'Id': 7, 'ParentId': 0, 'Confidence': 98.21189880371094, 'Geometry': {'BoundingBox': {'Width': 0.5043389201164246, 'Height': 0.2091532200574875, 'Left': 0.24878597259521484, 'Top': 0.04521729424595833}, 'Polygon': [{'X': 0.24878597259521484, 'Y': 0.05336837098002434}, {'X': 0.7522946000099182, 'Y': 0.04521729424595833}, {'X': 0.7531248927116394, 'Y': 0.2462194412946701}, {'X': 0.24961626529693604, 'Y': 0.2543705105781555}]}}\n",
      "3 {'DetectedText': 'Nevada', 'Type': 'WORD', 'Id': 15, 'ParentId': 6, 'Confidence': 99.68275451660156, 'Geometry': {'BoundingBox': {'Width': 0.18784074485301971, 'Height': 0.08413244038820267, 'Left': 0.5868431329727173, 'Top': 0.8480419516563416}, 'Polygon': [{'X': 0.5868431329727173, 'Y': 0.8507519364356995}, {'X': 0.7743836641311646, 'Y': 0.8480419516563416}, {'X': 0.7746838927268982, 'Y': 0.9294644594192505}, {'X': 0.5871433615684509, 'Y': 0.9321743845939636}]}}\n",
      "1 {'DetectedText': 'OHIO', 'Type': 'LINE', 'Id': 0, 'Confidence': 100.0, 'Geometry': {'BoundingBox': {'Width': 0.32361117005348206, 'Height': 0.16296295821666718, 'Left': 0.3361110985279083, 'Top': 0.04567902162671089}, 'Polygon': [{'X': 0.3361110985279083, 'Y': 0.04567902162671089}, {'X': 0.6597222685813904, 'Y': 0.04567902162671089}, {'X': 0.6597222685813904, 'Y': 0.20864199101924896}, {'X': 0.3361110985279083, 'Y': 0.20864199101924896}]}}\n",
      "2 {'DetectedText': 'OHIO', 'Type': 'WORD', 'Id': 4, 'ParentId': 0, 'Confidence': 100.0, 'Geometry': {'BoundingBox': {'Width': 0.32361117005348206, 'Height': 0.16296295821666718, 'Left': 0.3361110985279083, 'Top': 0.04567902162671089}, 'Polygon': [{'X': 0.3361110985279083, 'Y': 0.04567902162671089}, {'X': 0.6597222685813904, 'Y': 0.04567902162671089}, {'X': 0.6597222685813904, 'Y': 0.20864199101924896}, {'X': 0.3361110985279083, 'Y': 0.20864199101924896}]}}\n"
     ]
    }
   ],
   "source": [
    "for image in license_list:\n",
    "    detect_license_state(bucket_name, image)"
   ]
  },
  {
   "cell_type": "code",
   "execution_count": 28,
   "metadata": {},
   "outputs": [],
   "source": [
    "bucket_name = 'techcatalyst-public'\n",
    "\n",
    "# This ensures that I only return one reference of the state per image\n",
    "def detect_license_state(bucket, key):\n",
    "    idx = 1\n",
    "    response = rekognition.detect_text(Image={'S3Object':{'Bucket':bucket,'Name':key}})\n",
    "    for text in response['TextDetections']:\n",
    "        if text['DetectedText'].upper() in states and idx > 0:\n",
    "            idx -= 1\n",
    "            return(text['DetectedText'])"
   ]
  },
  {
   "cell_type": "code",
   "execution_count": 39,
   "metadata": {},
   "outputs": [],
   "source": [
    "detected_states = []\n",
    "for image in license_list:\n",
    "    detected_states.append({'Image':image, 'State':detect_license_state(bucket_name,image).title()})"
   ]
  },
  {
   "cell_type": "code",
   "execution_count": 40,
   "metadata": {},
   "outputs": [
    {
     "data": {
      "text/plain": [
       "[{'Image': 'resources/license-plates/license_plate10.jpeg',\n",
       "  'State': 'Arizona'},\n",
       " {'Image': 'resources/license-plates/license_plate11.png', 'State': 'Texas'},\n",
       " {'Image': 'resources/license-plates/license_plate12.jpeg', 'State': 'Texas'},\n",
       " {'Image': 'resources/license-plates/license_plate13.jpeg',\n",
       "  'State': 'Alabama'},\n",
       " {'Image': 'resources/license-plates/license_plate3.png',\n",
       "  'State': 'Massachusetts'},\n",
       " {'Image': 'resources/license-plates/license_plate4.jpeg',\n",
       "  'State': 'Pennsylvania'},\n",
       " {'Image': 'resources/license-plates/license_plate6.jpeg',\n",
       "  'State': 'California'},\n",
       " {'Image': 'resources/license-plates/license_plate7.jpg', 'State': 'Nevada'},\n",
       " {'Image': 'resources/license-plates/license_plate8.png', 'State': 'Ohio'},\n",
       " {'Image': 'resources/license-plates/license_plate9.jpeg', 'State': 'Alabama'}]"
      ]
     },
     "execution_count": 40,
     "metadata": {},
     "output_type": "execute_result"
    }
   ],
   "source": [
    "detected_states"
   ]
  },
  {
   "cell_type": "code",
   "execution_count": 41,
   "metadata": {},
   "outputs": [
    {
     "data": {
      "text/html": [
       "<div>\n",
       "<style scoped>\n",
       "    .dataframe tbody tr th:only-of-type {\n",
       "        vertical-align: middle;\n",
       "    }\n",
       "\n",
       "    .dataframe tbody tr th {\n",
       "        vertical-align: top;\n",
       "    }\n",
       "\n",
       "    .dataframe thead th {\n",
       "        text-align: right;\n",
       "    }\n",
       "</style>\n",
       "<table border=\"1\" class=\"dataframe\">\n",
       "  <thead>\n",
       "    <tr style=\"text-align: right;\">\n",
       "      <th></th>\n",
       "      <th>Image</th>\n",
       "      <th>State</th>\n",
       "    </tr>\n",
       "  </thead>\n",
       "  <tbody>\n",
       "    <tr>\n",
       "      <th>0</th>\n",
       "      <td>resources/license-plates/license_plate10.jpeg</td>\n",
       "      <td>Arizona</td>\n",
       "    </tr>\n",
       "    <tr>\n",
       "      <th>1</th>\n",
       "      <td>resources/license-plates/license_plate11.png</td>\n",
       "      <td>Texas</td>\n",
       "    </tr>\n",
       "    <tr>\n",
       "      <th>2</th>\n",
       "      <td>resources/license-plates/license_plate12.jpeg</td>\n",
       "      <td>Texas</td>\n",
       "    </tr>\n",
       "    <tr>\n",
       "      <th>3</th>\n",
       "      <td>resources/license-plates/license_plate13.jpeg</td>\n",
       "      <td>Alabama</td>\n",
       "    </tr>\n",
       "    <tr>\n",
       "      <th>4</th>\n",
       "      <td>resources/license-plates/license_plate3.png</td>\n",
       "      <td>Massachusetts</td>\n",
       "    </tr>\n",
       "    <tr>\n",
       "      <th>5</th>\n",
       "      <td>resources/license-plates/license_plate4.jpeg</td>\n",
       "      <td>Pennsylvania</td>\n",
       "    </tr>\n",
       "    <tr>\n",
       "      <th>6</th>\n",
       "      <td>resources/license-plates/license_plate6.jpeg</td>\n",
       "      <td>California</td>\n",
       "    </tr>\n",
       "    <tr>\n",
       "      <th>7</th>\n",
       "      <td>resources/license-plates/license_plate7.jpg</td>\n",
       "      <td>Nevada</td>\n",
       "    </tr>\n",
       "    <tr>\n",
       "      <th>8</th>\n",
       "      <td>resources/license-plates/license_plate8.png</td>\n",
       "      <td>Ohio</td>\n",
       "    </tr>\n",
       "    <tr>\n",
       "      <th>9</th>\n",
       "      <td>resources/license-plates/license_plate9.jpeg</td>\n",
       "      <td>Alabama</td>\n",
       "    </tr>\n",
       "  </tbody>\n",
       "</table>\n",
       "</div>"
      ],
      "text/plain": [
       "                                           Image          State\n",
       "0  resources/license-plates/license_plate10.jpeg        Arizona\n",
       "1   resources/license-plates/license_plate11.png          Texas\n",
       "2  resources/license-plates/license_plate12.jpeg          Texas\n",
       "3  resources/license-plates/license_plate13.jpeg        Alabama\n",
       "4    resources/license-plates/license_plate3.png  Massachusetts\n",
       "5   resources/license-plates/license_plate4.jpeg   Pennsylvania\n",
       "6   resources/license-plates/license_plate6.jpeg     California\n",
       "7    resources/license-plates/license_plate7.jpg         Nevada\n",
       "8    resources/license-plates/license_plate8.png           Ohio\n",
       "9   resources/license-plates/license_plate9.jpeg        Alabama"
      ]
     },
     "execution_count": 41,
     "metadata": {},
     "output_type": "execute_result"
    }
   ],
   "source": [
    "states_df = pd.DataFrame(detected_states)\n",
    "states_df"
   ]
  },
  {
   "cell_type": "code",
   "execution_count": 42,
   "metadata": {},
   "outputs": [
    {
     "data": {
      "image/png": "[encoded data removed]",
      "text/plain": [
       "<Figure size 640x480 with 1 Axes>"
      ]
     },
     "metadata": {},
     "output_type": "display_data"
    }
   ],
   "source": [
    "ax = states_df['State'].value_counts().plot(kind='bar')\n",
    "plt.savefig('states_graph.jpg', format='jpg')\n",
    "s3.upload_file('states_graph.jpg','techcatalyst-public','ben/states_graph.jpg')"
   ]
  },
  {
   "cell_type": "code",
   "execution_count": null,
   "metadata": {},
   "outputs": [],
   "source": []
  }
 ],
 "metadata": {
  "kernelspec": {
   "display_name": "Python 3",
   "language": "python",
   "name": "python3"
  },
  "language_info": {
   "codemirror_mode": {
    "name": "ipython",
    "version": 3
   },
   "file_extension": ".py",
   "mimetype": "text/x-python",
   "name": "python",
   "nbconvert_exporter": "python",
   "pygments_lexer": "ipython3",
   "version": "3.12.4"
  }
 },
 "nbformat": 4,
 "nbformat_minor": 2
}
